{
 "cells": [
  {
   "cell_type": "code",
   "execution_count": 5,
   "id": "b33bda07",
   "metadata": {},
   "outputs": [
    {
     "data": {
      "text/plain": [
       "[x(t) == (cos(3*t) + sin(3*t))*e^(-t), y(t) == (cos(3*t) - sin(3*t))*e^(-t)]"
      ]
     },
     "execution_count": 5,
     "metadata": {},
     "output_type": "execute_result"
    }
   ],
   "source": [
    "t = var('t')\n",
    "x = function('x')(t)\n",
    "y = function('y')(t)\n",
    "solution1 = desolve_system([diff(x,t) == -x + 3 * y, diff(y,t) == -3 * x - y], [x,y], ics = [0,1,1])\n",
    "solution1"
   ]
  },
  {
   "cell_type": "code",
   "execution_count": 6,
   "id": "b2c5c141",
   "metadata": {},
   "outputs": [
    {
     "data": {
      "image/png": "[encoded data removed]",
      "text/plain": [
       "Graphics object consisting of 1 graphics primitive"
      ]
     },
     "execution_count": 6,
     "metadata": {},
     "output_type": "execute_result"
    }
   ],
   "source": [
    "parametric_plot((solution1[0].rhs(),solution1[1].rhs()), (-10,10))"
   ]
  },
  {
   "cell_type": "code",
   "execution_count": 12,
   "id": "14f55363",
   "metadata": {},
   "outputs": [
    {
     "data": {
      "text/plain": [
       "-4"
      ]
     },
     "execution_count": 12,
     "metadata": {},
     "output_type": "execute_result"
    }
   ],
   "source": [
    "A = matrix([[0, -2, 0], [1, -2, 0], [0, 0, -2]])\n",
    "determinantA = det(A)\n",
    "determinantA"
   ]
  },
  {
   "cell_type": "code",
   "execution_count": 14,
   "id": "3f9a018c",
   "metadata": {},
   "outputs": [
    {
     "data": {
      "text/plain": [
       "[  -1    1    0]\n",
       "[-1/2    0    0]\n",
       "[   0    0 -1/2]"
      ]
     },
     "execution_count": 14,
     "metadata": {},
     "output_type": "execute_result"
    }
   ],
   "source": [
    "inverseOfA= A^(-1)\n",
    "inverseOfA"
   ]
  },
  {
   "cell_type": "code",
   "execution_count": 16,
   "id": "9cf58d8b",
   "metadata": {},
   "outputs": [
    {
     "data": {
      "text/plain": [
       "[1 0 0]\n",
       "[0 1 0]\n",
       "[0 0 1]"
      ]
     },
     "execution_count": 16,
     "metadata": {},
     "output_type": "execute_result"
    }
   ],
   "source": [
    "A*inverseOfA"
   ]
  },
  {
   "cell_type": "code",
   "execution_count": 19,
   "id": "401f08b2",
   "metadata": {},
   "outputs": [
    {
     "data": {
      "text/plain": [
       "r^3 + 4*r^2 + 6*r + 4"
      ]
     },
     "execution_count": 19,
     "metadata": {},
     "output_type": "execute_result"
    }
   ],
   "source": [
    "characteristicPoly = A.charpoly('r')\n",
    "characteristicPoly"
   ]
  },
  {
   "cell_type": "code",
   "execution_count": 21,
   "id": "e479c05b",
   "metadata": {},
   "outputs": [
    {
     "data": {
      "text/plain": [
       "[-2, -1 - 1*I, -1 + 1*I]"
      ]
     },
     "execution_count": 21,
     "metadata": {},
     "output_type": "execute_result"
    }
   ],
   "source": [
    "eigenvaluesOfA = A.eigenvalues()\n",
    "eigenvaluesOfA"
   ]
  },
  {
   "cell_type": "code",
   "execution_count": 22,
   "id": "743de998",
   "metadata": {},
   "outputs": [
    {
     "data": {
      "text/plain": [
       "[(-2,\n",
       "  [\n",
       "  (0, 0, 1)\n",
       "  ],\n",
       "  1),\n",
       " (-1 - 1*I, [(1, 0.50000000000000000? + 0.50000000000000000?*I, 0)], 1),\n",
       " (-1 + 1*I, [(1, 0.50000000000000000? - 0.50000000000000000?*I, 0)], 1)]"
      ]
     },
     "execution_count": 22,
     "metadata": {},
     "output_type": "execute_result"
    }
   ],
   "source": [
    "eigenvectorsOfA = A.eigenvectors_right()\n",
    "eigenvectorsOfA"
   ]
  },
  {
   "cell_type": "code",
   "execution_count": 26,
   "id": "3ff1b8f6",
   "metadata": {},
   "outputs": [
    {
     "data": {
      "text/plain": [
       "True"
      ]
     },
     "execution_count": 26,
     "metadata": {},
     "output_type": "execute_result"
    }
   ],
   "source": [
    "u1 = vector([0,0,1])\n",
    "lambda1 = -2\n",
    "A * u1 == lambda1 *u1"
   ]
  },
  {
   "cell_type": "code",
   "execution_count": 29,
   "id": "24a27429",
   "metadata": {},
   "outputs": [
    {
     "data": {
      "text/plain": [
       "True"
      ]
     },
     "execution_count": 29,
     "metadata": {},
     "output_type": "execute_result"
    }
   ],
   "source": [
    "u2 = vector([1 + 1*I, 1, 0])\n",
    "lambda2 = -1 + 1*I\n",
    "A * u2 == lambda2 *u2"
   ]
  },
  {
   "cell_type": "code",
   "execution_count": 30,
   "id": "51f28927",
   "metadata": {},
   "outputs": [
    {
     "data": {
      "text/plain": [
       "True"
      ]
     },
     "execution_count": 30,
     "metadata": {},
     "output_type": "execute_result"
    }
   ],
   "source": [
    "u3 = vector([1 - 1*I, 1, 0])\n",
    "lambda3 = -1 - 1*I\n",
    "A * u3 == lambda3 *u3"
   ]
  },
  {
   "cell_type": "code",
   "execution_count": 31,
   "id": "75c39089",
   "metadata": {},
   "outputs": [
    {
     "data": {
      "text/plain": [
       "[     0  I + 1 -I + 1]\n",
       "[     0      1      1]\n",
       "[     1      0      0]"
      ]
     },
     "execution_count": 31,
     "metadata": {},
     "output_type": "execute_result"
    }
   ],
   "source": [
    "P = matrix([u1, u2, u3]).transpose()\n",
    "P\n"
   ]
  },
  {
   "cell_type": "code",
   "execution_count": 36,
   "id": "3e0697a0",
   "metadata": {},
   "outputs": [
    {
     "data": {
      "text/plain": [
       "[    -2      0      0]\n",
       "[     0  I - 1      0]\n",
       "[     0      0 -I - 1]"
      ]
     },
     "execution_count": 36,
     "metadata": {},
     "output_type": "execute_result"
    }
   ],
   "source": [
    "diagonalMatrix = matrix([[lambda1, 0, 0], [0, lambda2, 0], [0, 0, lambda3]])\n",
    "diagonalMatrix"
   ]
  },
  {
   "cell_type": "code",
   "execution_count": 34,
   "id": "1b3a8477",
   "metadata": {},
   "outputs": [
    {
     "data": {
      "text/plain": [
       "[    -2      0      0]\n",
       "[     0  I - 1      0]\n",
       "[     0      0 -I - 1]"
      ]
     },
     "execution_count": 34,
     "metadata": {},
     "output_type": "execute_result"
    }
   ],
   "source": [
    "J = diagonal_matrix([lambda1, lambda2, lambda3])\n",
    "J"
   ]
  },
  {
   "cell_type": "code",
   "execution_count": 35,
   "id": "2059f6c0",
   "metadata": {},
   "outputs": [
    {
     "data": {
      "text/plain": [
       "True"
      ]
     },
     "execution_count": 35,
     "metadata": {},
     "output_type": "execute_result"
    }
   ],
   "source": [
    "A == P * J * P ^ (-1)"
   ]
  },
  {
   "cell_type": "code",
   "execution_count": 40,
   "id": "7494ec21",
   "metadata": {},
   "outputs": [],
   "source": [
    "E1 = exp(t * J)\n",
    "E2 = exp(t * A)\n",
    "limit1 = limit(E2[0,0], t = infinity)\n",
    "limit2 = limit(E2[0,1], t = infinity)\n",
    "limit3 = limit(E2[1,0], t = infinity)\n",
    "limit4 = limit(E2[1,1], t = infinity)"
   ]
  },
  {
   "cell_type": "code",
   "execution_count": 38,
   "id": "7e5baf69",
   "metadata": {},
   "outputs": [
    {
     "data": {
      "text/plain": [
       "0"
      ]
     },
     "execution_count": 38,
     "metadata": {},
     "output_type": "execute_result"
    }
   ],
   "source": [
    "limit1"
   ]
  },
  {
   "cell_type": "code",
   "execution_count": 39,
   "id": "a827664e",
   "metadata": {},
   "outputs": [
    {
     "data": {
      "text/plain": [
       "0"
      ]
     },
     "execution_count": 39,
     "metadata": {},
     "output_type": "execute_result"
    }
   ],
   "source": [
    "limit2"
   ]
  },
  {
   "cell_type": "code",
   "execution_count": 41,
   "id": "ae6309c6",
   "metadata": {},
   "outputs": [
    {
     "data": {
      "text/plain": [
       "0"
      ]
     },
     "execution_count": 41,
     "metadata": {},
     "output_type": "execute_result"
    }
   ],
   "source": [
    "limit3"
   ]
  },
  {
   "cell_type": "code",
   "execution_count": 42,
   "id": "0bd4671a",
   "metadata": {},
   "outputs": [
    {
     "data": {
      "text/plain": [
       "0"
      ]
     },
     "execution_count": 42,
     "metadata": {},
     "output_type": "execute_result"
    }
   ],
   "source": [
    "limit4"
   ]
  },
  {
   "cell_type": "code",
   "execution_count": 44,
   "id": "7fa68924",
   "metadata": {},
   "outputs": [
    {
     "data": {
      "text/plain": [
       "[ 2  0  0  0]\n",
       "[ 0  2  0  0]\n",
       "[ 0  0 -1  0]\n",
       "[ 0  0  0  0]"
      ]
     },
     "execution_count": 44,
     "metadata": {},
     "output_type": "execute_result"
    }
   ],
   "source": [
    "J2 = matrix([[2, 0, 0, 0], [0,2,0,0], [0,0,-1,0], [0,0,0,0]])\n",
    "J2"
   ]
  },
  {
   "cell_type": "code",
   "execution_count": 54,
   "id": "6ab43a12",
   "metadata": {},
   "outputs": [
    {
     "data": {
      "text/plain": [
       "[  -13/8    -3/8     1/2       0]\n",
       "[  65/48   23/48   -5/12       0]\n",
       "[ 39/256 -31/256   -3/64    1/16]\n",
       "[  -1/48   -7/48    1/12       0]"
      ]
     },
     "execution_count": 54,
     "metadata": {},
     "output_type": "execute_result"
    }
   ],
   "source": [
    "P2 = matrix([[1,2,0,4],[5,6,0,0],[9,11,0,13],[14,15,16,0]])\n",
    "inverseP2 = P2 ^(-1)\n",
    "inverseP2"
   ]
  },
  {
   "cell_type": "code",
   "execution_count": 57,
   "id": "39bf9b42",
   "metadata": {},
   "outputs": [
    {
     "data": {
      "text/plain": [
       "[x == -1, x == 1]"
      ]
     },
     "execution_count": 57,
     "metadata": {},
     "output_type": "execute_result"
    }
   ],
   "source": [
    "x = var('x')\n",
    "solution3 = solve(1 - x^2 == 0, x)\n",
    "solution3"
   ]
  },
  {
   "cell_type": "code",
   "execution_count": 72,
   "id": "50ecae25",
   "metadata": {},
   "outputs": [],
   "source": [
    "t = var('t')\n",
    "x = function('x')(t)\n",
    "solution3_2 = desolve(diff(x,t) == 1 - x^2, x, ics = [0,-2])\n",
    "solution3_2\n",
    "phi1 = solve((2*solution3_2).log_simplify(),x)[0].rhs()"
   ]
  },
  {
   "cell_type": "code",
   "execution_count": 73,
   "id": "f31dc77a",
   "metadata": {},
   "outputs": [],
   "source": [
    "t = var('t')\n",
    "x = function('x')(t)\n",
    "solution3_2 = desolve(diff(x,t) == 1 - x^2, x, ics = [0,2])\n",
    "solution3_2\n",
    "phi2 = solve((2*solution3_2).log_simplify(),x)[0].rhs()"
   ]
  },
  {
   "cell_type": "code",
   "execution_count": 76,
   "id": "db526b0f",
   "metadata": {},
   "outputs": [],
   "source": [
    "t = var('t')\n",
    "x = function('x')(t)\n",
    "solution3_2 = desolve(diff(x,t) == 1 - x^2, x, ics = [0,0])\n",
    "solution3_2\n",
    "phi3 = solve((2*solution3_2).log_simplify(),x)[0].rhs()"
   ]
  },
  {
   "cell_type": "code",
   "execution_count": 81,
   "id": "c2e84970",
   "metadata": {},
   "outputs": [
    {
     "data": {
      "image/png": "[encoded data removed]",
      "text/plain": [
       "Graphics object consisting of 1 graphics primitive"
      ]
     },
     "execution_count": 81,
     "metadata": {},
     "output_type": "execute_result"
    }
   ],
   "source": [
    "plot(phi1, -10, log(sqrt(3))-0.1)"
   ]
  },
  {
   "cell_type": "code",
   "execution_count": 83,
   "id": "e6c9e2f0",
   "metadata": {},
   "outputs": [
    {
     "data": {
      "image/png": "[encoded data removed]",
      "text/plain": [
       "Graphics object consisting of 1 graphics primitive"
      ]
     },
     "execution_count": 83,
     "metadata": {},
     "output_type": "execute_result"
    }
   ],
   "source": [
    "plot(phi2, -10, log(sqrt(3))-0.1)"
   ]
  },
  {
   "cell_type": "code",
   "execution_count": 98,
   "id": "9437f2ce",
   "metadata": {},
   "outputs": [
    {
     "data": {
      "image/png": "[encoded data removed]",
      "text/plain": [
       "Graphics object consisting of 1 graphics primitive"
      ]
     },
     "execution_count": 98,
     "metadata": {},
     "output_type": "execute_result"
    }
   ],
   "source": [
    "plot(phi3, -1, 1)"
   ]
  },
  {
   "cell_type": "code",
   "execution_count": 99,
   "id": "248a9bcb",
   "metadata": {},
   "outputs": [
    {
     "data": {
      "text/plain": [
       "-1"
      ]
     },
     "execution_count": 99,
     "metadata": {},
     "output_type": "execute_result"
    }
   ],
   "source": [
    "limit1 = limit(phi1, t = -infinity)\n",
    "limit1"
   ]
  },
  {
   "cell_type": "code",
   "execution_count": 100,
   "id": "b114dad0",
   "metadata": {},
   "outputs": [
    {
     "data": {
      "text/plain": [
       "1/2"
      ]
     },
     "execution_count": 100,
     "metadata": {},
     "output_type": "execute_result"
    }
   ],
   "source": [
    "limit1 = limit(phi3, t = log(sqrt(3)))\n",
    "limit1"
   ]
  },
  {
   "cell_type": "code",
   "execution_count": 101,
   "id": "a6c20aa9",
   "metadata": {},
   "outputs": [
    {
     "data": {
      "text/plain": [
       "1"
      ]
     },
     "execution_count": 101,
     "metadata": {},
     "output_type": "execute_result"
    }
   ],
   "source": [
    "limit2 = limit(phi3, t = infinity)\n",
    "limit2"
   ]
  },
  {
   "cell_type": "code",
   "execution_count": 92,
   "id": "334b7ee8",
   "metadata": {},
   "outputs": [
    {
     "data": {
      "text/plain": [
       "Infinity"
      ]
     },
     "execution_count": 92,
     "metadata": {},
     "output_type": "execute_result"
    }
   ],
   "source": [
    "limit2 = limit(phi2, t = -log(sqrt(3)))\n",
    "limit2"
   ]
  },
  {
   "cell_type": "code",
   "execution_count": 95,
   "id": "7d69410f",
   "metadata": {},
   "outputs": [
    {
     "data": {
      "text/plain": [
       "1"
      ]
     },
     "execution_count": 95,
     "metadata": {},
     "output_type": "execute_result"
    }
   ],
   "source": [
    "limit3 = limit(phi3, t = infinity)\n",
    "limit3"
   ]
  },
  {
   "cell_type": "code",
   "execution_count": null,
   "id": "1c8f0ee0",
   "metadata": {},
   "outputs": [],
   "source": []
  }
 ],
 "metadata": {
  "kernelspec": {
   "display_name": "SageMath 9.5",
   "language": "sage",
   "name": "sagemath"
  },
  "language_info": {
   "codemirror_mode": {
    "name": "ipython",
    "version": 3
   },
   "file_extension": ".py",
   "mimetype": "text/x-python",
   "name": "python",
   "nbconvert_exporter": "python",
   "pygments_lexer": "ipython3",
   "version": "3.10.6"
  }
 },
 "nbformat": 4,
 "nbformat_minor": 5
}
